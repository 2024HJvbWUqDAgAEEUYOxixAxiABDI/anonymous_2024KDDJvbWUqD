{
  "nbformat": 4,
  "nbformat_minor": 0,
  "metadata": {
    "colab": {
      "provenance": []
    },
    "kernelspec": {
      "name": "python3",
      "display_name": "Python 3"
    },
    "language_info": {
      "name": "python"
    }
  },
  "cells": [
    {
      "cell_type": "code",
      "execution_count": 1,
      "metadata": {
        "colab": {
          "base_uri": "https://localhost:8080/"
        },
        "id": "jjXLo9BhmiAg",
        "outputId": "c813561a-5e99-4b3f-a157-d7f1d716411a"
      },
      "outputs": [
        {
          "output_type": "stream",
          "name": "stdout",
          "text": [
            "Number of fail cases: 174\n"
          ]
        }
      ],
      "source": [
        "import numpy as np\n",
        "\n",
        "def generate_spatial_vector(dim):\n",
        "    \"\"\"Generate a random spatial vector of the specified dimension.\"\"\"\n",
        "    return np.random.randn(dim)\n",
        "\n",
        "def generate_lorentz_vector(spatial_vector, kappa):\n",
        "    \"\"\"Generate a Lorentz vector with a specified spatial part and curvature.\"\"\"\n",
        "    # Ensure the argument inside the sqrt is positive\n",
        "    spatial_norm_squared = np.sum(spatial_vector**2)\n",
        "    if spatial_norm_squared - 1/abs(kappa) < 0:\n",
        "        raise ValueError(\"Invalid vector components for the given curvature, leading to negative square root domain.\")\n",
        "    time_component = np.sqrt(spatial_norm_squared - 1/kappa)\n",
        "    return np.concatenate([[time_component], spatial_vector])\n",
        "\n",
        "def lorentz_inner_product(v1, v2):\n",
        "    \"\"\"Compute the Lorentz inner product given two Lorentz vectors.\"\"\"\n",
        "    return -v1[0] * v2[0] + np.dot(v1[1:], v2[1:])\n",
        "\n",
        "def lorentz_distance(v1, v2, kappa):\n",
        "    \"\"\"Compute the Lorentzian distance based on the Lorentz inner product.\"\"\"\n",
        "    inner_product = kappa * lorentz_inner_product(v1, v2)\n",
        "    if inner_product < 1:\n",
        "        return np.nan  # Adjusted inner product is below the domain of arcosh\n",
        "    return np.sqrt(abs(1/kappa)) * np.arccosh(inner_product)\n",
        "\n",
        "def check_distance_preservation(num_samples, dimension, kappa1, kappa2):\n",
        "    fail_count = 0\n",
        "    for _ in range(num_samples):\n",
        "        try:\n",
        "            # Generate spatial components for vectors x, y, z\n",
        "            x_space = generate_spatial_vector(dimension - 1)\n",
        "            y_space = generate_spatial_vector(dimension - 1)\n",
        "            z_space = generate_spatial_vector(dimension - 1)\n",
        "\n",
        "            # Generate Lorentz vectors for both curvatures\n",
        "            x_lorentz_kappa1 = generate_lorentz_vector(x_space, kappa1)\n",
        "            y_lorentz_kappa1 = generate_lorentz_vector(y_space, kappa1)\n",
        "            z_lorentz_kappa1 = generate_lorentz_vector(z_space, kappa1)\n",
        "            x_lorentz_kappa2 = generate_lorentz_vector(x_space, kappa2)\n",
        "            y_lorentz_kappa2 = generate_lorentz_vector(y_space, kappa2)\n",
        "            z_lorentz_kappa2 = generate_lorentz_vector(z_space, kappa2)\n",
        "\n",
        "            # Compute distances for both curvatures\n",
        "            distance_xy_1 = lorentz_distance(x_lorentz_kappa1, y_lorentz_kappa1, kappa1)\n",
        "            distance_xz_1 = lorentz_distance(x_lorentz_kappa1, z_lorentz_kappa1, kappa1)\n",
        "            distance_xy_2 = lorentz_distance(x_lorentz_kappa2, y_lorentz_kappa2, kappa2)\n",
        "            distance_xz_2 = lorentz_distance(x_lorentz_kappa2, z_lorentz_kappa2, kappa2)\n",
        "\n",
        "            # Check if the relative order is preserved\n",
        "            if (distance_xz_1 > distance_xy_1) != (distance_xz_2 > distance_xy_2):\n",
        "                fail_count += 1\n",
        "\n",
        "        except ValueError as e:\n",
        "            continue  # Skip current iteration and continue with the next sample\n",
        "\n",
        "    return fail_count\n",
        "\n",
        "# Example parameters\n",
        "num_samples = 50000\n",
        "dimension = 4\n",
        "kappa1 = -1\n",
        "kappa2 = -5\n",
        "\n",
        "# Running the test\n",
        "fail_count = check_distance_preservation(num_samples, dimension, kappa1, kappa2)\n",
        "print(\"Number of fail cases:\", fail_count)\n"
      ]
    },
    {
      "cell_type": "markdown",
      "source": [
        "To complete the proof, we will analyze the impact of changing curvature on the Lorentzian distances and determine whether the relative ordering of distances is preserved under this transformation.\n",
        "\n",
        "### Mathematical Setup:\n",
        "\n",
        "We have vectors $\\mathbf{x}$, $\\mathbf{y}$, and $\\mathbf{z}$ in a Lorentzian space with curvatures $\\kappa_1$ and $\\kappa_2$. For each vector $\\mathbf{a}$, the Lorentz transformation due to a change in curvature results in new temporal components:\n",
        "$$ \\mathbf{a} = \\left(\\sqrt{\\| \\mathbf{\\bar{a}} \\|_2^2 - \\frac{1}{\\kappa_1}}, \\mathbf{\\bar{a}}\\right), $$\n",
        "$$ \\mathbf{a}' = \\left(\\sqrt{\\| \\mathbf{\\bar{a}} \\|_2^2 - \\frac{1}{\\kappa_2}}, \\mathbf{\\bar{a}}\\right). $$\n",
        "\n",
        "### Lorentz Inner Product and Distance Calculation:\n",
        "\n",
        "The Lorentz inner product is defined as:\n",
        "$$ \\langle \\mathbf{a}, \\mathbf{b} \\rangle_\\mathcal{L} = -a_0b_0 + \\mathbf{\\bar{a}}^T\\mathbf{\\bar{b}}, $$\n",
        "where $a_0$ and $b_0$ are the temporal components of vectors $\\mathbf{a}$ and $\\mathbf{b}$, respectively.\n",
        "\n",
        "The Lorentzian distance between two points $\\mathbf{a}$ and $\\mathbf{b}$ under curvature $\\kappa$ is:\n",
        "$$ d_{\\mathcal{L}}^\\kappa(\\mathbf{a}, \\mathbf{b}) = \\sqrt{\\frac{1}{|\\kappa|}}\\text{arcosh}\\left(\\kappa \\langle \\mathbf{a}, \\mathbf{b} \\rangle_\\mathcal{L}\\right). $$\n",
        "\n",
        "### Effect of Curvature Change on Distance:\n",
        "\n",
        "Upon changing the curvature from $\\kappa_1$ to $\\kappa_2$, the temporal components of the vectors change, affecting the Lorentz inner product:\n",
        "$$ \\langle \\mathbf{a}', \\mathbf{b}' \\rangle_{\\mathcal{L}} = -a_0' b_0' + \\mathbf{\\bar{a}}^T \\mathbf{\\bar{b}}, $$\n",
        "where:\n",
        "$$ a_0' = \\sqrt{\\|\\mathbf{\\bar{a}}\\|_2^2 - \\frac{1}{\\kappa_2}}, \\quad b_0' = \\sqrt{\\|\\mathbf{\\bar{b}}\\|_2^2 - \\frac{1}{\\kappa_2}}. $$\n",
        "\n",
        "The change in curvature affects the magnitude of the temporal components, which in turn affects the first term of the inner product, $-a_0' b_0'$. Since the curvature $\\kappa$ scales this term, the impact on the Lorentzian distance involves both the magnitude of this term and the sign of $\\kappa$.\n",
        "\n",
        "### Preservation of Relative Distance Order:\n",
        "\n",
        "Assume we initially have $d_{\\mathcal{L}}^{\\kappa_1}(\\mathbf{x}, \\mathbf{z}) > d_{\\mathcal{L}}^{\\kappa_1}(\\mathbf{x}, \\mathbf{y})$, translating to:\n",
        "$$ \\text{arcosh}\\left(\\kappa_1 (-x_0z_0 + \\mathbf{\\bar{x}}^T \\mathbf{\\bar{z}})\\right) > \\text{arcosh}\\left(\\kappa_1 (-x_0y_0 + \\mathbf{\\bar{x}}^T \\mathbf{\\bar{y}})\\right). $$\n",
        "\n",
        "When curvature changes, we analyze:\n",
        "$$ \\text{arcosh}\\left(\\kappa_2 (-x_0'z_0' + \\mathbf{\\bar{x}}^T \\mathbf{\\bar{z}})\\right) \\quad \\text{vs} \\quad \\text{arcosh}\\left(\\kappa_2 (-x_0'y_0' + \\mathbf{\\bar{x}}^T \\mathbf{\\bar{y}})\\right). $$\n",
        "\n",
        "The critical insight is that even though the spatial components remain constant, the change in the sign and magnitude of the temporal product term due to the curvature change can affect the order of these arcosh values. Since the arcosh function is monotonically increasing, any decrease in the Lorentz inner product value (made less negative or more positive) can potentially reverse the inequality.\n",
        "\n",
        "### Conclusion:\n",
        "\n",
        "Changing curvature can indeed alter the relative distances due to the non-linear dependence on the temporal components in the Lorentz inner product. The preservation of relative distance order is not guaranteed unless additional constraints on the relationship between $\\mathbf{\\bar{x}}$, $\\mathbf{\\bar{y}}$, and $\\mathbf{\\bar{z}}$ or specific properties of $\\kappa_1$ and $\\kappa_2$ are imposed. This sensitivity to curvature demonstrates the complex geometry of Lorentz spaces and has implications in physical theories like general relativity, where curvature plays a fundamental role."
      ],
      "metadata": {
        "id": "gV7PRIfDm5B_"
      }
    }
  ]
}