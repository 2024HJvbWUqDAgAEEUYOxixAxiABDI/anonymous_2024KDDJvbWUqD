{
  "nbformat": 4,
  "nbformat_minor": 0,
  "metadata": {
    "colab": {
      "provenance": []
    },
    "kernelspec": {
      "name": "python3",
      "display_name": "Python 3"
    },
    "language_info": {
      "name": "python"
    }
  },
  "cells": [
    {
      "cell_type": "code",
      "execution_count": 1,
      "metadata": {
        "colab": {
          "base_uri": "https://localhost:8080/"
        },
        "id": "NYv4Ldyaxtih",
        "outputId": "dc035947-88a0-45de-8e83-2af9dc20d8e9"
      },
      "outputs": [
        {
          "output_type": "stream",
          "name": "stdout",
          "text": [
            "Number of fail cases: 0\n"
          ]
        }
      ],
      "source": [
        "import numpy as np\n",
        "\n",
        "def generate_spatial_vector(dim):\n",
        "    \"\"\"Generate a random spatial vector of the specified dimension.\"\"\"\n",
        "    return np.random.randn(dim)\n",
        "\n",
        "def generate_lorentz_vector(spatial_vector, kappa):\n",
        "    \"\"\"Generate a Lorentz vector with a specified spatial part and curvature.\"\"\"\n",
        "    time_component = np.sqrt(np.linalg.norm(spatial_vector)**2 + abs(1/kappa))\n",
        "    return np.concatenate(([time_component], spatial_vector))\n",
        "\n",
        "def lorentz_inner_product(v1, v2):\n",
        "    \"\"\"Compute the Lorentz inner product given two Lorentz vectors.\"\"\"\n",
        "    return -v1[0] * v2[0] + np.dot(v1[1:], v2[1:])\n",
        "\n",
        "def lorentz_distance(v1, v2, kappa):\n",
        "    \"\"\"Compute the Lorentzian distance based on the Lorentz inner product.\"\"\"\n",
        "    inner_product = kappa * lorentz_inner_product(v1, v2)\n",
        "    if inner_product < 1:\n",
        "        return np.nan  # Adjusted inner product is below the domain of arcosh\n",
        "    return np.sqrt(abs(1/kappa)) * np.arccosh(inner_product)\n",
        "\n",
        "def generate_lorentz_vector_kappa2(spatial_vector, kappa1, kappa2):\n",
        "    \"\"\"Generate a Lorentz vector with a specified spatial part and curvature kappa2, scaled from kappa1.\"\"\"\n",
        "    space_like_component = np.sqrt(kappa1/kappa2) * spatial_vector\n",
        "    time_like_component = np.sqrt(np.linalg.norm(space_like_component)**2 + abs(1/kappa2))\n",
        "    return np.concatenate(([time_like_component], space_like_component))\n",
        "\n",
        "def check_distance_preservation(num_samples, dimension, kappa1, kappa2):\n",
        "    fail_count = 0\n",
        "    for _ in range(num_samples):\n",
        "        # Generate spatial components for vectors x, y, z\n",
        "        x_space = generate_spatial_vector(dimension - 1)\n",
        "        y_space = generate_spatial_vector(dimension - 1)\n",
        "        z_space = generate_spatial_vector(dimension - 1)\n",
        "\n",
        "        # Generate Lorentz vectors for curvature kappa1\n",
        "        x_lorentz_kappa1 = generate_lorentz_vector(x_space, kappa1)\n",
        "        y_lorentz_kappa1 = generate_lorentz_vector(y_space, kappa1)\n",
        "        z_lorentz_kappa1 = generate_lorentz_vector(z_space, kappa1)\n",
        "\n",
        "        # Generate Lorentz vectors for curvature kappa2\n",
        "        x_lorentz_kappa2 = generate_lorentz_vector_kappa2(x_space, kappa1, kappa2)\n",
        "        y_lorentz_kappa2 = generate_lorentz_vector_kappa2(y_space, kappa1, kappa2)\n",
        "        z_lorentz_kappa2 = generate_lorentz_vector_kappa2(z_space, kappa1, kappa2)\n",
        "\n",
        "        # Compute distances for curvature kappa1\n",
        "        distance_xy_1 = lorentz_distance(x_lorentz_kappa1, y_lorentz_kappa1, kappa1)\n",
        "        distance_xz_1 = lorentz_distance(x_lorentz_kappa1, z_lorentz_kappa1, kappa1)\n",
        "\n",
        "        # Compute distances for curvature kappa2\n",
        "        distance_xy_2 = lorentz_distance(x_lorentz_kappa2, y_lorentz_kappa2, kappa2)\n",
        "        distance_xz_2 = lorentz_distance(x_lorentz_kappa2, z_lorentz_kappa2, kappa2)\n",
        "\n",
        "        # Check if the relative order is preserved\n",
        "        if not np.isnan(distance_xy_1) and not np.isnan(distance_xz_1) and not np.isnan(distance_xy_2) and not np.isnan(distance_xz_2):\n",
        "            if (distance_xz_1 > distance_xy_1) != (distance_xz_2 > distance_xy_2):\n",
        "                fail_count += 1\n",
        "\n",
        "    return fail_count\n",
        "\n",
        "# Example parameters\n",
        "num_samples = 50000\n",
        "dimension = 4\n",
        "kappa1 = -1\n",
        "kappa2 = -5\n",
        "\n",
        "# Running the test\n",
        "fail_count = check_distance_preservation(num_samples, dimension, kappa1, kappa2)\n",
        "print(\"Number of fail cases:\", fail_count)\n"
      ]
    },
    {
      "cell_type": "markdown",
      "source": [
        "Proof of Distance Preservation in Lorentzian Spaces\n",
        "We aim to show that the relative distance between points in a Lorentzian space is preserved under a change of curvature from $\\kappa_1$ to $\\kappa_2$.\n",
        "\n",
        "Given:\n",
        "For a vector $\\mathbf{x}$ and a linear transformation $f$ with weights $\\mathbf{W}$, let us define the vector $\\mathbf{z}$ in the Lorentzian space $\\mathbb{L}^{\\kappa_1}$ with curvature $\\kappa_1$ as:\n",
        "$$\n",
        "\\mathbf{z}=\\left(\\sqrt{\\|f(\\mathbf{x} ; \\mathbf{W})\\|_2^2-1 / \\kappa_1}, f(\\mathbf{x} ; \\mathbf{W})\\right)\n",
        "$$\n",
        "\n",
        "Applying the Hyperbolic Transformation Change (HTC) to convert $\\mathbf{z}$ to the space $\\mathbb{L}^{\\kappa_2}$ with curvature $\\kappa_2$, we get:\n",
        "$$\n",
        "\\operatorname{HTC}\\left(x, W, \\kappa_1, \\kappa_2\\right)=\\sqrt{\\frac{\\kappa_1}{\\kappa_2}} \\cdot \\mathbf{z}\n",
        "$$\n",
        "\n",
        "Here, $\\mathbf{z}^{\\prime}=\\operatorname{HTC}\\left(x, W, \\kappa_1, \\kappa_2\\right)$ is in $\\mathbb{L}^{\\kappa_2}$.\n",
        "\n",
        "Lorentzian Distances:\n",
        "The Lorentzian distance between two points $\\mathbf{z}_i$ and $\\mathbf{z}_j$ in $\\mathbb{L}^{\\kappa_1}$ is:\n",
        "$$\n",
        "d_{\\mathcal{L}}^{\\kappa_1}\\left(\\mathbf{z}_i, \\mathbf{z}_j\\right)=\\sqrt{1 /\\left|\\kappa_1\\right|} \\operatorname{arcosh}\\left(\\kappa_1\\left\\langle\\mathbf{z}_i, \\mathbf{z}_j\\right\\rangle_{\\mathcal{L}}\\right)\n",
        "$$\n",
        "\n",
        "Similarly, for $\\mathbb{L}^{\\kappa_2}$ :\n",
        "$$\n",
        "d_{\\mathcal{L}}^{\\kappa_2}\\left(\\mathbf{z}_i^{\\prime}, \\mathbf{z}_j^{\\prime}\\right)=\\sqrt{1 /\\left|\\kappa_2\\right|} \\operatorname{arcosh}\\left(\\kappa_2\\left\\langle\\mathbf{z}_i^{\\prime}, \\mathbf{z}_j^{\\prime}\\right\\rangle_{\\mathcal{L}}\\right)\n",
        "$$\n",
        "\n",
        "To Prove:\n",
        "If\n",
        "$$\n",
        "d_{\\mathcal{L}}^{\\kappa_1}\\left(\\mathbf{z}_i, \\mathbf{z}_j\\right) \\geq d_{\\mathcal{L}}^{\\kappa_1}\\left(\\mathbf{z}_i, \\mathbf{z}_k\\right)\n",
        "$$\n",
        "then it implies\n",
        "$$\n",
        "d_{\\mathcal{L}}^{\\kappa_2}\\left(\\mathbf{z}_i^{\\prime}, \\mathbf{z}_j^{\\prime}\\right) \\geq d_{\\mathcal{L}}^{\\kappa_2}\\left(\\mathbf{z}_i^{\\prime}, \\mathbf{z}_k^{\\prime}\\right)\n",
        "$$\n",
        "Proof:\n",
        "Starting with the distance in $\\mathbb{L}^{\\kappa_2}$ :\n",
        "$$\n",
        "d_{\\mathcal{L}}^{\\kappa_2}\\left(\\mathbf{z}_i^{\\prime}, \\mathbf{z}_j^{\\prime}\\right)=\\sqrt{1 /\\left|\\kappa_2\\right|} \\operatorname{arcosh}\\left(\\kappa_2\\left\\langle\\mathbf{z}_i^{\\prime}, \\mathbf{z}_j^{\\prime}\\right\\rangle_{\\mathcal{L}}\\right)\n",
        "$$\n",
        "\n",
        "This simplifies to:\n",
        "$$\n",
        "d_{\\mathcal{L}}^{\\kappa_2}\\left(\\mathbf{z}_i^{\\prime}, \\mathbf{z}_j^{\\prime}\\right)=\\sqrt{1 /\\left|\\kappa_2\\right|} \\operatorname{arcosh}\\left(\\kappa_1\\left\\langle\\mathbf{z}_i, \\mathbf{z}_j\\right\\rangle_{\\mathcal{L}}\\right)=\\sqrt{\\frac{\\kappa_1}{\\kappa_2}}\\left(d_{\\mathcal{L}}^{\\kappa_1}\\left(\\mathbf{z}_i, \\mathbf{z}_j\\right)\\right)\n",
        "$$\n",
        "\n",
        "Since the function arcosh is monotonically increasing, the inequality for distances in $\\mathbb{L}^{\\kappa_1}$ preserves when scaling by $\\sqrt{\\frac{\\kappa_1}{\\kappa_2}}$, thus proving our proposition.\n",
        "\n"
      ],
      "metadata": {
        "id": "Uidx7lsNxvEG"
      }
    }
  ]
}